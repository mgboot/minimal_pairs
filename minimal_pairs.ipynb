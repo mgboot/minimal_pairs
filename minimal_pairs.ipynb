{
 "cells": [
  {
   "cell_type": "code",
   "execution_count": 44,
   "metadata": {},
   "outputs": [],
   "source": [
    "def create_pron_dict(f):\n",
    "    \n",
    "    \"\"\" create and fill a dictionary\n",
    "    where keys are phonological transcriptions (e.g. \"B IY1 T\")\n",
    "    and values are lists of corresponding words (e.g. [\"BEAT\", \"BEET\"]) \"\"\"\n",
    "\n",
    "    print(\"Creating pronunciation dictionary ...\")\n",
    "    \n",
    "    entries = f.split(\"\\n\")\n",
    "    \n",
    "    pron_dict = {}\n",
    "\n",
    "    for e in entries:\n",
    "        phonemes = e.split(\"  \")[1]\n",
    "        word = e.split(\"  \")[0]\n",
    "\n",
    "        if phonemes not in pron_dict:\n",
    "            pron_dict[phonemes] = []\n",
    "\n",
    "        pron_dict[phonemes].append(word)\n",
    "    \n",
    "    print(\"Created pronunciation dictionary.\")\n",
    "        \n",
    "    return pron_dict"
   ]
  },
  {
   "cell_type": "code",
   "execution_count": 45,
   "metadata": {},
   "outputs": [],
   "source": [
    "def create_x_dict(pron_dict):\n",
    "    \"\"\" create a similar dictionary where keys are transcriptions with one phoneme changed to X (e.g. \"X IY1 T\")\n",
    "and values are dicts whose entries have the form {missing phoneme: [list of relevant words]};\n",
    "e.g. {\"B\": [\"BEAT\", \"BEET\"], \"P\": [\"PEAT\", \"PETE\"]...} \"\"\"\n",
    "\n",
    "    print(\"Creating 'X'-dictionary ...\")\n",
    "    \n",
    "    x_dict = {}\n",
    "    \n",
    "    for k in pron_dict:\n",
    "        pattern = k.split()\n",
    "        words = pron_dict[k]\n",
    "\n",
    "        # for each phoneme in list, create (or add to) key in x_dict with this phoneme as variable 'X'\n",
    "\n",
    "        for i in range(len(pattern)):\n",
    "            x_pattern = pattern[:i] + [\"X\"] + pattern[i+1:]\n",
    "            x_pattern = \" \".join(x_pattern)\n",
    "\n",
    "            # if this x-pattern has not been added to x_dict yet, create value as an empty dict\n",
    "\n",
    "            if x_pattern not in x_dict:\n",
    "                x_dict[x_pattern] = {}\n",
    "\n",
    "            # the value corresponding to the sound is the list of valid words it produces when it replaces 'X'\n",
    "                \n",
    "            x_dict[x_pattern][pattern[i]] = words\n",
    "        \n",
    "    # remove keys for which only a single sound can validly replace 'X'\n",
    "    # (since these patterns yield no minimal pairs)\n",
    "        \n",
    "    trim_uniques(x_dict)\n",
    "\n",
    "    print(\"Created 'X'-dictionary.\")\n",
    "        \n",
    "    return x_dict"
   ]
  },
  {
   "cell_type": "code",
   "execution_count": 46,
   "metadata": {},
   "outputs": [],
   "source": [
    "def trim_uniques(d):\n",
    "    \n",
    "    \"\"\" Remove keys from x_dict that only have one corresponding word (or set of homophones) \"\"\"\n",
    "    \n",
    "    print(\"Removing 'X'-values that generate no minimal pairs ...\")\n",
    "    \n",
    "    keys = list(d.keys())\n",
    "    for k in keys:\n",
    "        if len(d[k])==1:\n",
    "            del d[k]\n",
    "            \n",
    "    return None"
   ]
  },
  {
   "cell_type": "code",
   "execution_count": 48,
   "metadata": {},
   "outputs": [],
   "source": [
    "def print_minimal_pairs(phoneme_1, phoneme_2):\n",
    "\n",
    "    count = 0\n",
    "    \n",
    "    for k in x_dict:\n",
    "        if (phoneme_1 in x_dict[k]) and (phoneme_2 in x_dict[k]):\n",
    "            pair_1 = x_dict[k][phoneme_1]\n",
    "            pair_2 = x_dict[k][phoneme_2]\n",
    "            \n",
    "            count += 1\n",
    "            \n",
    "            print(pair_1, \"contrasts with\", pair_2)\n",
    "            \n",
    "    print(\"The phonemes\", phoneme_1, \"and\", phoneme_2, \"yield\", count, \"minimal pairs.\")\n",
    "    \n",
    "    return None"
   ]
  },
  {
   "cell_type": "code",
   "execution_count": 58,
   "metadata": {},
   "outputs": [
    {
     "name": "stdout",
     "output_type": "stream",
     "text": [
      "Creating pronunciation dictionary ...\n",
      "Created pronunciation dictionary.\n",
      "Creating 'X'-dictionary ...\n",
      "Removing 'X'-values that generate no minimal pairs ...\n",
      "Created 'X'-dictionary.\n"
     ]
    }
   ],
   "source": [
    "f = open(\"pronunciation_dict.txt\")\n",
    "f = f.read()\n",
    "\n",
    "pron_dict = create_pron_dict(f)\n",
    "\n",
    "x_dict = {}\n",
    "\n",
    "x_dict = create_x_dict(pron_dict)"
   ]
  },
  {
   "cell_type": "code",
   "execution_count": 59,
   "metadata": {},
   "outputs": [
    {
     "name": "stdout",
     "output_type": "stream",
     "text": [
      "['ASCHER', 'ASHER', 'ASHUR'] contrasts with ['AZURE']\n",
      "['ALEUTIAN'] contrasts with ['ALLUSION']\n",
      "['ALEUTIANS'] contrasts with ['ALLUSIONS']\n",
      "['SCHAACK', 'SCHOCH', 'SCHOCK', 'SHAAK', 'SHOCK'] contrasts with ['JACQUES']\n",
      "['HSIA', 'SHA', 'SHAH'] contrasts with ['ZSA']\n",
      "['SCHAKE', 'SHAIK', 'SHAIKH', 'SHAKE'] contrasts with ['JACQUE']\n",
      "['SIANG(1)'] contrasts with ['ZHANG']\n",
      "['HSIAO', 'SCHOW', 'SHAO', 'SHOUGH'] contrasts with ['XIAO', 'ZHAO', 'ZSCHAU']\n",
      "['CHAIRES', \"SHARE'S\", 'SHARES', \"SHARES'\", \"SHERR'S\"] contrasts with ['JARES']\n",
      "['SHAW'] contrasts with ['XIO']\n",
      "[\"SHAW'S\"] contrasts with ['SIAS']\n",
      "['SCHEEL', 'SCHEELE', 'SCHIEL', 'SCHIELE', \"SHE'LL\", 'SHIEL'] contrasts with ['GILLES']\n",
      "['CHENETTE'] contrasts with ['JENNETTE']\n",
      "['SCHERTZ', 'SHIRTS', 'SHURTZ'] contrasts with ['GEURTS']\n",
      "['HSU', 'SCHOO', 'SCHOU', 'SCHUE', 'SCHUH', 'SHEW', 'SHIU', 'SHOE', 'SHOO', 'SHU', 'SHUE'] contrasts with ['ZHOU', 'ZHU']\n",
      "['SHOCKS'] contrasts with [\"JACQUES'\"]\n",
      "['KASHMIR'] contrasts with ['CASHMERE']\n",
      "['CHANEL'] contrasts with ['JANELLE']\n",
      "['CHELETTE'] contrasts with ['GELETTE']\n",
      "['CONFUCIAN'] contrasts with ['CONFUSION']\n",
      "['SCHIEREN', 'SHEARON', 'SHEERAN', 'SHIRIN'] contrasts with ['GIRON']\n",
      "['DILUTION(1)'] contrasts with ['DELUSION']\n",
      "['HACHETTE'] contrasts with ['HUGETTE']\n",
      "['RAASCH'] contrasts with ['RAJ']\n",
      "['LESHER'] contrasts with ['LEASURE', 'LEISURE']\n",
      "['LOESCHER'] contrasts with ['LOSURE']\n",
      "['MESCHER'] contrasts with ['MEASURE']\n",
      "['RUESCH'] contrasts with ['ROUGE']\n",
      "['ROSHIER'] contrasts with ['ROGIER']\n",
      "['TOSH'] contrasts with ['TAJ']\n",
      "The phonemes SH and ZH yield 30 minimal pairs.\n"
     ]
    }
   ],
   "source": [
    "# Input desired phonemes here!\n",
    "\n",
    "# Use phoneme symbols from ARPABET (https://en.wikipedia.org/wiki/ARPABET)\n",
    "\n",
    "print_minimal_pairs(\"SH\",\"ZH\")"
   ]
  },
  {
   "cell_type": "code",
   "execution_count": null,
   "metadata": {},
   "outputs": [],
   "source": []
  }
 ],
 "metadata": {
  "kernelspec": {
   "display_name": "Python 3",
   "language": "python",
   "name": "python3"
  },
  "language_info": {
   "codemirror_mode": {
    "name": "ipython",
    "version": 3
   },
   "file_extension": ".py",
   "mimetype": "text/x-python",
   "name": "python",
   "nbconvert_exporter": "python",
   "pygments_lexer": "ipython3",
   "version": "3.7.4"
  }
 },
 "nbformat": 4,
 "nbformat_minor": 2
}
